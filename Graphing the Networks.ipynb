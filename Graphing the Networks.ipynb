{
 "cells": [
  {
   "cell_type": "markdown",
   "metadata": {},
   "source": [
    "# Graph(s) of our Water Quality Network \n",
    "This jupyter notebook has all networkx processing stuff in it. From here, we can figure out how to subset our graph and weight things, etc."
   ]
  },
  {
   "cell_type": "markdown",
   "metadata": {},
   "source": [
    "## Getting Our Bipartite "
   ]
  },
  {
   "cell_type": "code",
   "execution_count": 1,
   "metadata": {},
   "outputs": [],
   "source": [
    "import time\n",
    "import random\n",
    "import decimal\n",
    "import powerlaw\n",
    "import matplotlib\n",
    "import numpy as np\n",
    "import networkx as nx\n",
    "import matplotlib.pyplot as plt\n",
    "import graph_creation_functions as fcns\n",
    "from networkx.algorithms import community as comm\n",
    "%matplotlib inline"
   ]
  },
  {
   "cell_type": "code",
   "execution_count": 2,
   "metadata": {},
   "outputs": [],
   "source": [
    "site_pollutant_graph = fcns.read_in_multi_bipartite_graph(\"potentially_a_bipartite_US.tsv\")"
   ]
  },
  {
   "cell_type": "code",
   "execution_count": 3,
   "metadata": {},
   "outputs": [],
   "source": [
    "sites, pollutants = fcns.get_bipartite_sets(site_pollutant_graph)"
   ]
  },
  {
   "cell_type": "code",
   "execution_count": 4,
   "metadata": {},
   "outputs": [],
   "source": [
    "sp_single_graph = fcns.multi_to_single_graph_bipartite(site_pollutant_graph)"
   ]
  },
  {
   "cell_type": "code",
   "execution_count": 5,
   "metadata": {},
   "outputs": [],
   "source": [
    "site_graph, pollutant_graph = fcns.get_projections(sp_single_graph, sites, pollutants)"
   ]
  },
  {
   "cell_type": "code",
   "execution_count": 6,
   "metadata": {},
   "outputs": [],
   "source": [
    "def print_graph_info(graph, is_projection=False):\n",
    "    print(\"Number of nodes:\", graph.number_of_nodes())\n",
    "    print(\"Number of links:\", graph.number_of_edges())\n",
    "    print(\"Average degree :\", graph.number_of_edges()/graph.number_of_nodes())\n",
    "    if type(graph) == nx.Graph:\n",
    "        print(\"Average weight :\", np.mean(list(nx.get_edge_attributes(graph,\n",
    "                                                                      \"Weight\").values())))\n",
    "        if is_projection:\n",
    "            print(\"Clustering coef:\", np.mean(list(nx.clustering(graph).values())))"
   ]
  },
  {
   "cell_type": "code",
   "execution_count": 7,
   "metadata": {},
   "outputs": [
    {
     "name": "stdout",
     "output_type": "stream",
     "text": [
      "Multi-Link Bipartite\n",
      "~~~~~~~~~~~~~~~~~~~~~~~~~~~~~~~~~~~~~~~~~~~~~\n",
      "Number of nodes: 824\n",
      "Number of links: 9563\n",
      "Average degree : 11.605582524271844\n",
      "\n",
      "Single-Link Bipartite\n",
      "~~~~~~~~~~~~~~~~~~~~~~~~~~~~~~~~~~~~~~~~~~~~~\n",
      "Number of nodes: 824\n",
      "Number of links: 2453\n",
      "Average degree : 2.9769417475728157\n",
      "Average weight : 3.898491642886262\n",
      "\n",
      "Site Projection Information\n",
      "~~~~~~~~~~~~~~~~~~~~~~~~~~~~~~~~~~~~~~~~~~~~~\n",
      "Number of nodes: 773\n",
      "Number of links: 209487\n",
      "Average degree : 271.0051746442432\n",
      "Average weight : 1.601412020793653\n",
      "Clustering coef: 0.9217378535354916\n",
      "\n",
      "Pollutant Projection Information\n",
      "~~~~~~~~~~~~~~~~~~~~~~~~~~~~~~~~~~~~~~~~~~~~~\n",
      "Number of nodes: 51\n",
      "Number of links: 474\n",
      "Average degree : 9.294117647058824\n",
      "Average weight : 11.11603375527426\n",
      "Clustering coef: 0.8795542648788249\n"
     ]
    }
   ],
   "source": [
    "print(\"Multi-Link Bipartite\")\n",
    "print(\"~~~~~~~~~~~~~~~~~~~~~~~~~~~~~~~~~~~~~~~~~~~~~\")\n",
    "print_graph_info(site_pollutant_graph)\n",
    "print(\"\")\n",
    "print(\"Single-Link Bipartite\")\n",
    "print(\"~~~~~~~~~~~~~~~~~~~~~~~~~~~~~~~~~~~~~~~~~~~~~\")\n",
    "print_graph_info(sp_single_graph)\n",
    "print(\"\")\n",
    "print(\"Site Projection Information\")\n",
    "print(\"~~~~~~~~~~~~~~~~~~~~~~~~~~~~~~~~~~~~~~~~~~~~~\")\n",
    "print_graph_info(site_graph, True)\n",
    "print(\"\")\n",
    "print(\"Pollutant Projection Information\")\n",
    "print(\"~~~~~~~~~~~~~~~~~~~~~~~~~~~~~~~~~~~~~~~~~~~~~\")\n",
    "print_graph_info(pollutant_graph, True)"
   ]
  },
  {
   "cell_type": "code",
   "execution_count": 8,
   "metadata": {},
   "outputs": [],
   "source": [
    "import operator as op\n",
    "from functools import reduce\n",
    "def nCr(n, r):\n",
    "    r = min(r, n-r)\n",
    "    numer = reduce(op.mul, range(n, n-r, -1), 1)\n",
    "    denom = reduce(op.mul, range(1, r+1), 1)\n",
    "    return numer//denom"
   ]
  },
  {
   "cell_type": "code",
   "execution_count": 9,
   "metadata": {},
   "outputs": [],
   "source": [
    "def plot_loglog(graph, name, nodes=None, is_weight=False):\n",
    "    if is_weight:\n",
    "        title = name + \" Edge Weight Distribution\"\n",
    "        label = \"Weights\"\n",
    "        xlabel = \"weight $w$\"\n",
    "        ylabel = \"$P(w)$\"\n",
    "        data = list(nx.get_edge_attributes(graph,\"Weight\").values())\n",
    "    else:\n",
    "        title = name + \" Degree Distribution\"\n",
    "        label = \"Degrees\"\n",
    "        xlabel = \"degree $k$\"\n",
    "        ylabel = \"$P(k)$\"\n",
    "        if nodes:\n",
    "            data = [degree[1] for degree in graph.degree if degree[0] in nodes]\n",
    "        else:\n",
    "            data = [degree[1] for degree in graph.degree]\n",
    "    \n",
    "    gamma = None\n",
    "    \n",
    "    # Log-Log plot it in bin - taken from Sean's implementation in the first hands-on project\n",
    "    kmax = max(data)\n",
    "    kmin = min(data)\n",
    "    bin_edges = np.logspace(np.log10(kmin), np.log10(kmax), num=20)\n",
    "    density, _ = np.histogram(smb_degs, bins=bin_edges, density=True)\n",
    "    log_be = np.log10(bin_edges)\n",
    "    x = 10**((log_be[1:] + log_be[:-1])/2)\n",
    "    plt.loglog(x, density, marker='o', linestyle='none', label=label)\n",
    "    \n",
    "    # Plot the Power Law Fit line\n",
    "    x_val = x[density > 0]\n",
    "    y_val = density[density > 0]\n",
    "    gamma, y_int = np.polyfit(np.log(x_val), np.log(y_val), 1)\n",
    "    pl_fit = np.exp((gamma)*np.log(x) + y_int)\n",
    "    plt.loglog(x, pl_fit, label=\"Power Law\")\n",
    "    \n",
    "    # Plot the Exponential Fit Line\n",
    "    N = len(data)\n",
    "    avg_k = np.mean(data)\n",
    "    p = avg_k/(N-1)\n",
    "    reduced_set = sorted(set(data))\n",
    "    exp_fit = []\n",
    "    used_points = []\n",
    "    for k in reduced_set:\n",
    "        try:\n",
    "            v1 = nCr(N-1, k)\n",
    "            v2 = (p**k)\n",
    "            v3 = abs((1-p)**(N-1-k))\n",
    "            val = v1 * v2 * v3\n",
    "            exp_fit.append(val)\n",
    "            used_points.append(k)\n",
    "        except Exception as e:\n",
    "            continue\n",
    "    plt.loglog(used_points, exp_fit, linestyle='-.', label=\"Random\")\n",
    "    \n",
    "    plt.xlabel(xlabel, fontsize=16)\n",
    "    plt.ylabel(ylabel, fontsize=16)\n",
    "    plt.title(title)\n",
    "\n",
    "    plt.xlim(min(bin_edges), reduced_set[-1])\n",
    "    plt.ylim(min(pl_fit), max(density)+1)\n",
    "    plt.legend()\n",
    "    plt.show()\n",
    "    \n",
    "    return gamma"
   ]
  },
  {
   "cell_type": "code",
   "execution_count": 10,
   "metadata": {
    "scrolled": false
   },
   "outputs": [
    {
     "ename": "NameError",
     "evalue": "name 'smb_degs' is not defined",
     "output_type": "error",
     "traceback": [
      "\u001b[0;31m----------------------------------------------------------------------\u001b[0m",
      "\u001b[0;31mNameError\u001b[0m                            Traceback (most recent call last)",
      "\u001b[0;32m<ipython-input-10-66632a7e6093>\u001b[0m in \u001b[0;36m<module>\u001b[0;34m()\u001b[0m\n\u001b[0;32m----> 1\u001b[0;31m \u001b[0mplot_loglog\u001b[0m\u001b[0;34m(\u001b[0m\u001b[0msite_pollutant_graph\u001b[0m\u001b[0;34m,\u001b[0m \u001b[0;34m\"Multi-Link Bipartite Site\"\u001b[0m\u001b[0;34m,\u001b[0m \u001b[0msites\u001b[0m\u001b[0;34m)\u001b[0m\u001b[0;34m\u001b[0m\u001b[0m\n\u001b[0m\u001b[1;32m      2\u001b[0m \u001b[0mplot_loglog\u001b[0m\u001b[0;34m(\u001b[0m\u001b[0msp_single_graph\u001b[0m\u001b[0;34m,\u001b[0m \u001b[0;34m\"Single-Link Bipartite Site\"\u001b[0m\u001b[0;34m,\u001b[0m \u001b[0msites\u001b[0m\u001b[0;34m)\u001b[0m\u001b[0;34m\u001b[0m\u001b[0m\n\u001b[1;32m      3\u001b[0m \u001b[0mplot_loglog\u001b[0m\u001b[0;34m(\u001b[0m\u001b[0msite_pollutant_graph\u001b[0m\u001b[0;34m,\u001b[0m \u001b[0;34m\"Multi-Link Bipartite Pollutant\"\u001b[0m\u001b[0;34m,\u001b[0m \u001b[0mpollutants\u001b[0m\u001b[0;34m)\u001b[0m\u001b[0;34m\u001b[0m\u001b[0m\n\u001b[1;32m      4\u001b[0m \u001b[0mplot_loglog\u001b[0m\u001b[0;34m(\u001b[0m\u001b[0msp_single_graph\u001b[0m\u001b[0;34m,\u001b[0m \u001b[0;34m\"Single-Link Bipartite Pollutant\"\u001b[0m\u001b[0;34m,\u001b[0m \u001b[0mpollutants\u001b[0m\u001b[0;34m)\u001b[0m\u001b[0;34m\u001b[0m\u001b[0m\n\u001b[1;32m      5\u001b[0m \u001b[0mplot_loglog\u001b[0m\u001b[0;34m(\u001b[0m\u001b[0msite_graph\u001b[0m\u001b[0;34m,\u001b[0m \u001b[0;34m\"Site Projection\"\u001b[0m\u001b[0;34m)\u001b[0m\u001b[0;34m\u001b[0m\u001b[0m\n",
      "\u001b[0;32m<ipython-input-9-b04a00a83c0f>\u001b[0m in \u001b[0;36mplot_loglog\u001b[0;34m(graph, name, nodes, is_weight)\u001b[0m\n\u001b[1;32m     22\u001b[0m     \u001b[0mkmin\u001b[0m \u001b[0;34m=\u001b[0m \u001b[0mmin\u001b[0m\u001b[0;34m(\u001b[0m\u001b[0mdata\u001b[0m\u001b[0;34m)\u001b[0m\u001b[0;34m\u001b[0m\u001b[0m\n\u001b[1;32m     23\u001b[0m     \u001b[0mbin_edges\u001b[0m \u001b[0;34m=\u001b[0m \u001b[0mnp\u001b[0m\u001b[0;34m.\u001b[0m\u001b[0mlogspace\u001b[0m\u001b[0;34m(\u001b[0m\u001b[0mnp\u001b[0m\u001b[0;34m.\u001b[0m\u001b[0mlog10\u001b[0m\u001b[0;34m(\u001b[0m\u001b[0mkmin\u001b[0m\u001b[0;34m)\u001b[0m\u001b[0;34m,\u001b[0m \u001b[0mnp\u001b[0m\u001b[0;34m.\u001b[0m\u001b[0mlog10\u001b[0m\u001b[0;34m(\u001b[0m\u001b[0mkmax\u001b[0m\u001b[0;34m)\u001b[0m\u001b[0;34m,\u001b[0m \u001b[0mnum\u001b[0m\u001b[0;34m=\u001b[0m\u001b[0;36m20\u001b[0m\u001b[0;34m)\u001b[0m\u001b[0;34m\u001b[0m\u001b[0m\n\u001b[0;32m---> 24\u001b[0;31m     \u001b[0mdensity\u001b[0m\u001b[0;34m,\u001b[0m \u001b[0m_\u001b[0m \u001b[0;34m=\u001b[0m \u001b[0mnp\u001b[0m\u001b[0;34m.\u001b[0m\u001b[0mhistogram\u001b[0m\u001b[0;34m(\u001b[0m\u001b[0msmb_degs\u001b[0m\u001b[0;34m,\u001b[0m \u001b[0mbins\u001b[0m\u001b[0;34m=\u001b[0m\u001b[0mbin_edges\u001b[0m\u001b[0;34m,\u001b[0m \u001b[0mdensity\u001b[0m\u001b[0;34m=\u001b[0m\u001b[0;32mTrue\u001b[0m\u001b[0;34m)\u001b[0m\u001b[0;34m\u001b[0m\u001b[0m\n\u001b[0m\u001b[1;32m     25\u001b[0m     \u001b[0mlog_be\u001b[0m \u001b[0;34m=\u001b[0m \u001b[0mnp\u001b[0m\u001b[0;34m.\u001b[0m\u001b[0mlog10\u001b[0m\u001b[0;34m(\u001b[0m\u001b[0mbin_edges\u001b[0m\u001b[0;34m)\u001b[0m\u001b[0;34m\u001b[0m\u001b[0m\n\u001b[1;32m     26\u001b[0m     \u001b[0mx\u001b[0m \u001b[0;34m=\u001b[0m \u001b[0;36m10\u001b[0m\u001b[0;34m**\u001b[0m\u001b[0;34m(\u001b[0m\u001b[0;34m(\u001b[0m\u001b[0mlog_be\u001b[0m\u001b[0;34m[\u001b[0m\u001b[0;36m1\u001b[0m\u001b[0;34m:\u001b[0m\u001b[0;34m]\u001b[0m \u001b[0;34m+\u001b[0m \u001b[0mlog_be\u001b[0m\u001b[0;34m[\u001b[0m\u001b[0;34m:\u001b[0m\u001b[0;34m-\u001b[0m\u001b[0;36m1\u001b[0m\u001b[0;34m]\u001b[0m\u001b[0;34m)\u001b[0m\u001b[0;34m/\u001b[0m\u001b[0;36m2\u001b[0m\u001b[0;34m)\u001b[0m\u001b[0;34m\u001b[0m\u001b[0m\n",
      "\u001b[0;31mNameError\u001b[0m: name 'smb_degs' is not defined"
     ]
    }
   ],
   "source": [
    "plot_loglog(site_pollutant_graph, \"Multi-Link Bipartite Site\", sites)\n",
    "plot_loglog(sp_single_graph, \"Single-Link Bipartite Site\", sites)\n",
    "plot_loglog(site_pollutant_graph, \"Multi-Link Bipartite Pollutant\", pollutants)\n",
    "plot_loglog(sp_single_graph, \"Single-Link Bipartite Pollutant\", pollutants)\n",
    "plot_loglog(site_graph, \"Site Projection\")\n",
    "plot_loglog(pollutant_graph, \"Pollutant Projection\")"
   ]
  },
  {
   "cell_type": "code",
   "execution_count": null,
   "metadata": {
    "scrolled": true
   },
   "outputs": [],
   "source": [
    "plot_loglog(sp_single_graph, \"Single-Link Bipartite Site\", sites, is_weight=True)\n",
    "plot_loglog(sp_single_graph, \"Single-Link Bipartite Pollutant\", pollutants, is_weight=True)\n",
    "plot_loglog(site_graph, \"Site Projection\", is_weight=True)\n",
    "plot_loglog(pollutant_graph, \"Pollutant Projection\", is_weight=True)"
   ]
  },
  {
   "cell_type": "markdown",
   "metadata": {},
   "source": [
    "# Communities"
   ]
  },
  {
   "cell_type": "code",
   "execution_count": 22,
   "metadata": {},
   "outputs": [],
   "source": [
    "def get_partitions(graph):\n",
    "    communities = comm.greedy_modularity_communities(graph)\n",
    "    partitions = {}\n",
    "    for i,community in enumerate(communities):\n",
    "        for node in community:\n",
    "            partitions[node] = i\n",
    "    return partitions, communities"
   ]
  },
  {
   "cell_type": "code",
   "execution_count": 12,
   "metadata": {},
   "outputs": [],
   "source": [
    "def write_partitions(partitions, filename):\n",
    "    with open(filename, 'w') as file:\n",
    "        for node in partitions:\n",
    "            file.write(\"{}\\t{}\\n\".format(node, partitions[node]))"
   ]
  },
  {
   "cell_type": "code",
   "execution_count": 23,
   "metadata": {},
   "outputs": [],
   "source": [
    "pollutant_partitions, pollutant_communities = get_partitions(pollutant_graph)\n",
    "write_partitions(pollutant_partitions, \"Partitions/pollutant_partitions.tsv\")"
   ]
  },
  {
   "cell_type": "code",
   "execution_count": 14,
   "metadata": {},
   "outputs": [],
   "source": [
    "site_partitions = get_partitions(site_graph)\n",
    "write_partitions(site_partitions, \"Partitions/site_partitions.tsv\")"
   ]
  },
  {
   "cell_type": "markdown",
   "metadata": {},
   "source": [
    "# Creating a null model"
   ]
  },
  {
   "cell_type": "code",
   "execution_count": 15,
   "metadata": {},
   "outputs": [],
   "source": [
    "degrees = sp_single_graph.degree\n",
    "null_graph = nx.Graph()\n",
    "null_graph.add_nodes_from(list(sp_single_graph.nodes))\n",
    "\n",
    "edge_list = []\n",
    "rand_degrees = {}\n",
    "\n",
    "\n",
    "pollutants_by_largest_degree = [item[0] for item in sorted([info for info in dict(sp_single_graph.degree).items() if info[0] in pollutants],\n",
    "                                 key=lambda x:x[1], reverse=True)]\n",
    "usable_sites = sites.copy()\n",
    "for pollutant in pollutants_by_largest_degree:\n",
    "    used_sites = []\n",
    "    rand_degrees[pollutant] = 0\n",
    "    rand_sites = random.sample(usable_sites, degrees[pollutant])\n",
    "    for site in rand_sites:\n",
    "        if site not in rand_degrees:\n",
    "            rand_degrees[site] = 0\n",
    "        elif rand_degrees[site] == degrees[site]:\n",
    "                continue\n",
    "        rand_degrees[pollutant] += 1\n",
    "        rand_degrees[site] += 1\n",
    "        edge_list.append((pollutant, site))\n",
    "        used_sites.append(site)\n",
    "        if rand_degrees[site] == degrees[site]:\n",
    "            usable_sites.remove(site)\n",
    "    \n",
    "    if rand_degrees[pollutant] < degrees[pollutant]:\n",
    "        print(\"{} vs {}\".format(rand_degrees[pollutant], degrees[pollutant]))\n",
    "        print(usable_sites)\n",
    "        print(used_sites)\n",
    "        remaining_sites = list(set(usable_sites).difference(set(used_sites)))\n",
    "        print(remaining_sites)\n",
    "        random.shuffle(remaining_sites)\n",
    "        while rand_degrees[pollutant] < degrees[pollutant]:\n",
    "            site = remaining_sites.pop()\n",
    "            if site not in rand_degrees:\n",
    "                rand_degrees[site] = 0\n",
    "            rand_degrees[pollutant] += 1\n",
    "            rand_degrees[site] += 1\n",
    "            edge_list.append((pollutant, site))\n",
    "            used_sites.append(site)\n",
    "            if rand_degrees[site] == degrees[site]:\n",
    "                usable_sites.remove(site)\n",
    "null_graph.add_edges_from(edge_list)"
   ]
  },
  {
   "cell_type": "code",
   "execution_count": 16,
   "metadata": {},
   "outputs": [],
   "source": [
    "for key in rand_degrees:\n",
    "    if degrees[key] != rand_degrees[key]:\n",
    "        print(\"{:>15}: Needed {:>3} vs Have {:>3}\".format(key, degrees[key], rand_degrees[key]))"
   ]
  },
  {
   "cell_type": "code",
   "execution_count": null,
   "metadata": {},
   "outputs": [],
   "source": []
  },
  {
   "cell_type": "code",
   "execution_count": 17,
   "metadata": {},
   "outputs": [],
   "source": [
    "null_site_graph, null_pollutant_graph = fcns.get_projections(null_graph, sites, pollutants)\n",
    "nx.write_edgelist(G=null_pollutant_graph, path=\"Graphs/Null_Pollutant_Graph.tsv\", delimiter=\"\\t\", data=False)\n",
    "nx.write_edgelist(G=null_site_graph, path=\"Graphs/Null_Site_Graph.tsv\", delimiter=\"\\t\", data=False)"
   ]
  },
  {
   "cell_type": "code",
   "execution_count": 25,
   "metadata": {},
   "outputs": [],
   "source": [
    "null_p_partitions, null_p_communities = get_partitions(null_pollutant_graph)\n",
    "null_s_partitions, null_s_communities = get_partitions(null_site_graph)"
   ]
  },
  {
   "cell_type": "code",
   "execution_count": 19,
   "metadata": {},
   "outputs": [],
   "source": [
    "write_partitions(null_p_partitions, \"Partitions/null_pollutant_partitions.tsv\")\n",
    "write_partitions(null_s_partitions, \"Partitions/null_site_partitions.tsv\")"
   ]
  },
  {
   "cell_type": "code",
   "execution_count": null,
   "metadata": {},
   "outputs": [],
   "source": []
  },
  {
   "cell_type": "code",
   "execution_count": 27,
   "metadata": {},
   "outputs": [
    {
     "data": {
      "text/plain": [
       "0.3533354697430966"
      ]
     },
     "execution_count": 27,
     "metadata": {},
     "output_type": "execute_result"
    }
   ],
   "source": [
    "comm.modularity(pollutant_graph, pollutant_communities)"
   ]
  },
  {
   "cell_type": "code",
   "execution_count": 28,
   "metadata": {},
   "outputs": [
    {
     "data": {
      "text/plain": [
       "0.1254240949187156"
      ]
     },
     "execution_count": 28,
     "metadata": {},
     "output_type": "execute_result"
    }
   ],
   "source": [
    "comm.modularity(null_pollutant_graph, null_p_communities)"
   ]
  },
  {
   "cell_type": "code",
   "execution_count": 29,
   "metadata": {},
   "outputs": [],
   "source": [
    "nx.write_edgelist(G=null_graph, path=\"Graphs/Null_bipartite.tsv\", data=False)"
   ]
  },
  {
   "cell_type": "code",
   "execution_count": null,
   "metadata": {},
   "outputs": [],
   "source": [
    "fcns.write_graph_to_file(\"Graphs/Null_bipartite.tsv\", null_graph)\n",
    "fcns.write_graph_to_file(\"Graphs/Null_bipartite.tsv\", null_graph)"
   ]
  },
  {
   "cell_type": "code",
   "execution_count": 30,
   "metadata": {},
   "outputs": [
    {
     "name": "stdout",
     "output_type": "stream",
     "text": [
      "Help on function write_graph_to_file in module graph_creation_functions:\n",
      "\n",
      "write_graph_to_file(filename, graph, data=None, verbose=False)\n",
      "\n"
     ]
    }
   ],
   "source": [
    "help(fcns.write_graph_to_file)"
   ]
  },
  {
   "cell_type": "code",
   "execution_count": null,
   "metadata": {},
   "outputs": [],
   "source": []
  }
 ],
 "metadata": {
  "kernelspec": {
   "display_name": "Python 3",
   "language": "python",
   "name": "python3"
  },
  "language_info": {
   "codemirror_mode": {
    "name": "ipython",
    "version": 3
   },
   "file_extension": ".py",
   "mimetype": "text/x-python",
   "name": "python",
   "nbconvert_exporter": "python",
   "pygments_lexer": "ipython3",
   "version": "3.6.2"
  }
 },
 "nbformat": 4,
 "nbformat_minor": 2
}
